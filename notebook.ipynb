{
 "cells": [
  {
   "cell_type": "code",
   "execution_count": 43,
   "metadata": {
    "tags": [
     "preamble"
    ]
   },
   "outputs": [
    {
     "name": "stdout",
     "output_type": "stream",
     "text": [
      "Populating the interactive namespace from numpy and matplotlib\n"
     ]
    }
   ],
   "source": [
    "%pylab inline\n",
    "import numpy as np\n",
    "import pandas as pd\n",
    "from __future__ import division\n",
    "from numpy.testing import assert_almost_equal\n",
    "import IPython\n",
    "from IPython.core.display import Latex\n",
    "import functools\n",
    "import itertools\n",
    "import scipy.stats\n",
    "pd.options.display.max_rows = 999"
   ]
  },
  {
   "cell_type": "code",
   "execution_count": 16,
   "metadata": {
    "tags": [
     "continuous-interest"
    ]
   },
   "outputs": [
    {
     "data": {
      "text/plain": [
       "0.69314718055994529"
      ]
     },
     "execution_count": 16,
     "metadata": {},
     "output_type": "execute_result"
    }
   ],
   "source": [
    "def continuous_yield(v0, vT, T):\n",
    "    return np.log(vT/v0)/T\n",
    "\n",
    "continuous_yield(1, 2, 1.)"
   ]
  },
  {
   "cell_type": "code",
   "execution_count": 15,
   "metadata": {
    "format": "row",
    "tags": [
     "tbill"
    ]
   },
   "outputs": [
    {
     "name": "stdout",
     "output_type": "stream",
     "text": [
      "py\n"
     ]
    }
   ],
   "source": [
    "class TBill(object):\n",
    "    def rate(self):\n",
    "        return 0\n",
    "    \n",
    "print(\"py\")"
   ]
  },
  {
   "cell_type": "code",
   "execution_count": 5,
   "metadata": {
    "collapsed": true
   },
   "outputs": [],
   "source": [
    "import quandl as mkt"
   ]
  },
  {
   "cell_type": "code",
   "execution_count": 93,
   "metadata": {
    "tags": [
     "var"
    ]
   },
   "outputs": [],
   "source": [
    "msft = mkt.get(\"WIKI/MSFT\", start_date='20160101', end_date='20170101')\n",
    "closes = msft['Adj. Close']\n",
    "\n",
    "def var(prices, periods, q, interpolation=None):\n",
    "    returns = prices.pct_change(periods=periods)\n",
    "    return returns.quantile(1-q, interpolation=interpolation)\n",
    "\n"
   ]
  },
  {
   "cell_type": "code",
   "execution_count": 96,
   "metadata": {
    "tags": [
     "var"
    ]
   },
   "outputs": [
    {
     "data": {
      "text/plain": [
       "High           -0.087782\n",
       "Interpolated   -0.088704\n",
       "Low            -0.089490\n",
       "Name: 99% 5day VaR, dtype: float64"
      ]
     },
     "execution_count": 96,
     "metadata": {},
     "output_type": "execute_result"
    }
   ],
   "source": [
    "pd.Series({\n",
    "    'Low':          var(closes, periods=5, q=.99, interpolation='lower'),\n",
    "    'Interpolated': var(closes, periods=5, q=.99, interpolation='linear'),\n",
    "    'High':         var(closes, periods=5, q=.99, interpolation='higher'),\n",
    "}, name='99% 5day VaR')"
   ]
  },
  {
   "cell_type": "code",
   "execution_count": 99,
   "metadata": {
    "collapsed": true,
    "tags": [
     "cvar"
    ]
   },
   "outputs": [],
   "source": [
    "def cvar(prices, periods, q, interpolation=None):\n",
    "    returns = prices.pct_change(periods=periods)\n",
    "    threshold = var(prices, periods, q, interpolation)\n",
    "    return returns[returns <= threshold].mean()\n",
    "\n"
   ]
  },
  {
   "cell_type": "code",
   "execution_count": 100,
   "metadata": {
    "tags": [
     "cvar"
    ]
   },
   "outputs": [
    {
     "data": {
      "text/plain": [
       "High           -0.094890\n",
       "Interpolated   -0.097259\n",
       "Low            -0.097259\n",
       "Name: 99% 5day CVaR, dtype: float64"
      ]
     },
     "execution_count": 100,
     "metadata": {},
     "output_type": "execute_result"
    }
   ],
   "source": [
    "pd.Series([\n",
    "    cvar(closes, periods=5, q=.99, interpolation='lower'),\n",
    "    cvar(closes, periods=5, q=.99, interpolation='linear'),\n",
    "    cvar(closes, periods=5, q=.99, interpolation='higher'),\n",
    "}, index='Low Interp High'.split(), name='99% 5day CVaR')"
   ]
  }
 ],
 "metadata": {
  "celltoolbar": "Tags",
  "kernelspec": {
   "display_name": "Python 2",
   "language": "python",
   "name": "python2"
  },
  "language_info": {
   "codemirror_mode": {
    "name": "ipython",
    "version": 2
   },
   "file_extension": ".py",
   "mimetype": "text/x-python",
   "name": "python",
   "nbconvert_exporter": "python",
   "pygments_lexer": "ipython2",
   "version": "2.7.10"
  }
 },
 "nbformat": 4,
 "nbformat_minor": 2
}
